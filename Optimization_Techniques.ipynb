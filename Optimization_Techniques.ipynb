{
  "nbformat": 4,
  "nbformat_minor": 0,
  "metadata": {
    "colab": {
      "provenance": [],
      "collapsed_sections": [
        "EghvDiLV0qJJ"
      ],
      "toc_visible": true,
      "authorship_tag": "ABX9TyP94dN3I+ksMT0qJfoSVvf6",
      "include_colab_link": true
    },
    "kernelspec": {
      "name": "python3",
      "display_name": "Python 3"
    },
    "language_info": {
      "name": "python"
    }
  },
  "cells": [
    {
      "cell_type": "markdown",
      "metadata": {
        "id": "view-in-github",
        "colab_type": "text"
      },
      "source": [
        "<a href=\"https://colab.research.google.com/github/iamrajharshit/otmS7/blob/main/Optimization_Techniques.ipynb\" target=\"_parent\"><img src=\"https://colab.research.google.com/assets/colab-badge.svg\" alt=\"Open In Colab\"/></a>"
      ]
    },
    {
      "cell_type": "markdown",
      "source": [
        "# Minimize The Objective Function"
      ],
      "metadata": {
        "id": "EghvDiLV0qJJ"
      }
    },
    {
      "cell_type": "markdown",
      "source": [
        "Q1:"
      ],
      "metadata": {
        "id": "4WJyi3w4yulj"
      }
    },
    {
      "cell_type": "code",
      "execution_count": null,
      "metadata": {
        "colab": {
          "base_uri": "https://localhost:8080/"
        },
        "id": "e-HQlLsJv9ln",
        "outputId": "90468202-6827-470e-a923-be0f72608a67"
      },
      "outputs": [
        {
          "output_type": "stream",
          "name": "stdout",
          "text": [
            "Requirement already satisfied: sciPy in /usr/local/lib/python3.10/dist-packages (1.13.1)\n",
            "Requirement already satisfied: numpy<2.3,>=1.22.4 in /usr/local/lib/python3.10/dist-packages (from sciPy) (1.26.4)\n"
          ]
        }
      ],
      "source": [
        "#pip install sciPy"
      ]
    },
    {
      "cell_type": "code",
      "source": [
        "import numpy as np\n",
        "from scipy.optimize import minimize"
      ],
      "metadata": {
        "id": "9N8zSQfKwZup"
      },
      "execution_count": null,
      "outputs": []
    },
    {
      "cell_type": "code",
      "source": [
        "#objective\n",
        "def objective(x):\n",
        "  return 2*x**2+20*x-22"
      ],
      "metadata": {
        "id": "i2__iE32xR4B"
      },
      "execution_count": null,
      "outputs": []
    },
    {
      "cell_type": "code",
      "source": [
        "x0=np.array([10])\n",
        "\n",
        "result=minimize(objective,x0,method='BFGS')\n",
        "result\n"
      ],
      "metadata": {
        "colab": {
          "base_uri": "https://localhost:8080/"
        },
        "id": "4ZOgDx3fxflC",
        "outputId": "27713af2-112a-489c-be91-59ac249ed17f"
      },
      "execution_count": null,
      "outputs": [
        {
          "output_type": "execute_result",
          "data": {
            "text/plain": [
              "  message: Optimization terminated successfully.\n",
              "  success: True\n",
              "   status: 0\n",
              "      fun: -71.99999999999855\n",
              "        x: [-5.000e+00]\n",
              "      nit: 2\n",
              "      jac: [-3.815e-06]\n",
              " hess_inv: [[ 2.500e-01]]\n",
              "     nfev: 8\n",
              "     njev: 4"
            ]
          },
          "metadata": {},
          "execution_count": 5
        }
      ]
    },
    {
      "cell_type": "code",
      "source": [
        "print('optimal solution for x:',result.x)\n",
        "print('optimal value of f(x):',result.fun)"
      ],
      "metadata": {
        "colab": {
          "base_uri": "https://localhost:8080/"
        },
        "id": "YPrK_8r_xrgS",
        "outputId": "754c68cf-59f3-45d6-b385-cd29eb17ed79"
      },
      "execution_count": null,
      "outputs": [
        {
          "output_type": "stream",
          "name": "stdout",
          "text": [
            "optimal solution for x: [-5.00000085]\n",
            "optimal value of f(x): -71.99999999999855\n"
          ]
        }
      ]
    },
    {
      "cell_type": "code",
      "source": [],
      "metadata": {
        "id": "7rBr-as340i2"
      },
      "execution_count": null,
      "outputs": []
    },
    {
      "cell_type": "markdown",
      "source": [
        "Q2:"
      ],
      "metadata": {
        "id": "9qaPK1Pyyebr"
      }
    },
    {
      "cell_type": "code",
      "source": [
        "import numpy as np\n",
        "from scipy.optimize import minimize"
      ],
      "metadata": {
        "id": "0fGUSBMRyKBg"
      },
      "execution_count": null,
      "outputs": []
    },
    {
      "cell_type": "code",
      "source": [
        "def objective(x):\n",
        "  return x[0]**2+x[1]**2"
      ],
      "metadata": {
        "id": "aSeNZ2NpyKEh"
      },
      "execution_count": null,
      "outputs": []
    },
    {
      "cell_type": "code",
      "source": [
        "# define constraint\n",
        "def constraint1(x):\n",
        "  return x[0]+x[1]-1"
      ],
      "metadata": {
        "id": "w-fl2zRLyKH_"
      },
      "execution_count": null,
      "outputs": []
    },
    {
      "cell_type": "code",
      "source": [
        "# initial guess\n",
        "x0=[0.5,0.5]"
      ],
      "metadata": {
        "id": "ONGdFsN7y6jZ"
      },
      "execution_count": null,
      "outputs": []
    },
    {
      "cell_type": "code",
      "source": [
        "#define the bounds\n",
        "bounds=[(0,None),(0,None)]"
      ],
      "metadata": {
        "id": "jw0TzSTnzBDu"
      },
      "execution_count": null,
      "outputs": []
    },
    {
      "cell_type": "code",
      "source": [
        "# define the constraint dictionary\n",
        "con={'type':'eq','fun':constraint1}"
      ],
      "metadata": {
        "id": "CDvTxd1qzG1K"
      },
      "execution_count": null,
      "outputs": []
    },
    {
      "cell_type": "code",
      "source": [
        "# perform the opt with constraints and bounds\n",
        "result=minimize(objective,x0,bounds=bounds,constraints=con,method='SLSQP')"
      ],
      "metadata": {
        "id": "33jCDt7SzYq0"
      },
      "execution_count": null,
      "outputs": []
    },
    {
      "cell_type": "code",
      "source": [
        "print(f\"optimal value of x:{result.x}\")\n",
        "print(f\"optimal value of f(x):{result.fun}\")\n"
      ],
      "metadata": {
        "colab": {
          "base_uri": "https://localhost:8080/"
        },
        "id": "OCGcKnAYzoiR",
        "outputId": "9f9ca08b-a685-406e-dbf7-60749c51b87d"
      },
      "execution_count": null,
      "outputs": [
        {
          "output_type": "stream",
          "name": "stdout",
          "text": [
            "optimal value of x:[0.5 0.5]\n",
            "optimal value of f(x):0.5\n"
          ]
        }
      ]
    },
    {
      "cell_type": "code",
      "source": [
        "result"
      ],
      "metadata": {
        "colab": {
          "base_uri": "https://localhost:8080/"
        },
        "id": "haU4rdCpz35e",
        "outputId": "fd2be75b-fa30-4c86-c74e-0efb6af74540"
      },
      "execution_count": null,
      "outputs": [
        {
          "output_type": "execute_result",
          "data": {
            "text/plain": [
              " message: Optimization terminated successfully\n",
              " success: True\n",
              "  status: 0\n",
              "     fun: 0.5\n",
              "       x: [ 5.000e-01  5.000e-01]\n",
              "     nit: 1\n",
              "     jac: [ 1.000e+00  1.000e+00]\n",
              "    nfev: 3\n",
              "    njev: 1"
            ]
          },
          "metadata": {},
          "execution_count": 18
        }
      ]
    },
    {
      "cell_type": "code",
      "source": [],
      "metadata": {
        "id": "xn885vQGz7E3"
      },
      "execution_count": null,
      "outputs": []
    },
    {
      "cell_type": "markdown",
      "source": [],
      "metadata": {
        "id": "tI_E-lc02V2h"
      }
    },
    {
      "cell_type": "markdown",
      "source": [],
      "metadata": {
        "id": "m4ajVAlP35YW"
      }
    },
    {
      "cell_type": "markdown",
      "source": [
        "Q3:"
      ],
      "metadata": {
        "id": "UDjgXWsg0Bbv"
      }
    },
    {
      "cell_type": "code",
      "source": [
        "import numpy as np\n",
        "from scipy.optimize import minimize"
      ],
      "metadata": {
        "id": "r0395cUb0Ajt"
      },
      "execution_count": null,
      "outputs": []
    },
    {
      "cell_type": "code",
      "source": [
        "def objective(x):\n",
        "    return x[0]*x[3]*(x[0]+x[1]+x[2])+x[2]"
      ],
      "metadata": {
        "id": "KBFsQEkBz9sM"
      },
      "execution_count": null,
      "outputs": []
    },
    {
      "cell_type": "code",
      "source": [
        "# initial value\n",
        "x0=[1,5,5,1]"
      ],
      "metadata": {
        "id": "zAN5jm1I0Hdp"
      },
      "execution_count": null,
      "outputs": []
    },
    {
      "cell_type": "code",
      "source": [
        "print('initial value of objective', str(objective(x0)))"
      ],
      "metadata": {
        "colab": {
          "base_uri": "https://localhost:8080/"
        },
        "id": "Oi1NtLvt0K2H",
        "outputId": "692b531e-5d7d-4174-b3b8-4d8db93d1e90"
      },
      "execution_count": null,
      "outputs": [
        {
          "output_type": "stream",
          "name": "stdout",
          "text": [
            "initial value of objective 16\n"
          ]
        }
      ]
    },
    {
      "cell_type": "code",
      "source": [
        "def constraint1(x):\n",
        "    return x[0]**2+x[1]**2+x[2]**2+x[3]**2-40"
      ],
      "metadata": {
        "id": "u2NL5QiC0nDC"
      },
      "execution_count": null,
      "outputs": []
    },
    {
      "cell_type": "code",
      "source": [
        "def constraint2(x):\n",
        "    return x[0]*x[1]*x[2]*x[3]-25"
      ],
      "metadata": {
        "id": "xyN7coop0nAj"
      },
      "execution_count": null,
      "outputs": []
    },
    {
      "cell_type": "code",
      "source": [
        "con1 = {'type': 'eq', 'fun': constraint1}\n",
        "con2 = {'type': 'ineq', 'fun': constraint2}\n",
        "cons=([con1, con2])"
      ],
      "metadata": {
        "id": "cSb2J-LO0m-L"
      },
      "execution_count": null,
      "outputs": []
    },
    {
      "cell_type": "code",
      "source": [
        "bounds=[(1,5),(1,5),(1,5),(1,5)]\n",
        "# b=(1.0,5.0)\n",
        "# bounds=(b,b,b,b)"
      ],
      "metadata": {
        "id": "zbdEc0g50myv"
      },
      "execution_count": null,
      "outputs": []
    },
    {
      "cell_type": "code",
      "source": [
        "result = minimize(objective, x0, bounds=bounds, constraints=cons, method='SLSQP')\n",
        "result"
      ],
      "metadata": {
        "colab": {
          "base_uri": "https://localhost:8080/"
        },
        "id": "Z3elEKq20T10",
        "outputId": "25d6d886-8379-4b98-c83b-7d2e0079ecb0"
      },
      "execution_count": null,
      "outputs": [
        {
          "output_type": "execute_result",
          "data": {
            "text/plain": [
              " message: Optimization terminated successfully\n",
              " success: True\n",
              "  status: 0\n",
              "     fun: 17.01401724556073\n",
              "       x: [ 1.000e+00  4.743e+00  3.821e+00  1.379e+00]\n",
              "     nit: 5\n",
              "     jac: [ 1.457e+01  1.379e+00  2.379e+00  9.564e+00]\n",
              "    nfev: 25\n",
              "    njev: 5"
            ]
          },
          "metadata": {},
          "execution_count": 31
        }
      ]
    },
    {
      "cell_type": "code",
      "source": [
        "print('optimal solution for x: ', result.x)\n",
        "print('minimum value of function: ', result.fun)"
      ],
      "metadata": {
        "colab": {
          "base_uri": "https://localhost:8080/"
        },
        "id": "e34puobM1AKN",
        "outputId": "e0cbac94-122e-440f-d189-d5f99d64bf10"
      },
      "execution_count": null,
      "outputs": [
        {
          "output_type": "stream",
          "name": "stdout",
          "text": [
            "optimal solution for x:  [1.         4.74299607 3.82115466 1.37940764]\n",
            "minimum value of function:  17.01401724556073\n"
          ]
        }
      ]
    },
    {
      "cell_type": "code",
      "source": [
        "print('final objectivee', str(objective(result.x)))"
      ],
      "metadata": {
        "colab": {
          "base_uri": "https://localhost:8080/"
        },
        "id": "BD8qm4XW1AG1",
        "outputId": "4522c70b-fc97-4b62-b4ba-a2829cc27c92"
      },
      "execution_count": null,
      "outputs": [
        {
          "output_type": "stream",
          "name": "stdout",
          "text": [
            "final objectivee 17.01401724556073\n"
          ]
        }
      ]
    },
    {
      "cell_type": "code",
      "source": [
        "print('x1 = ',str(result.x[0]))\n",
        "print('x2 = ',str(result.x[1]))\n",
        "print('x3 = ',str(result.x[2]))\n",
        "print('x4 = ',str(result.x[3]))"
      ],
      "metadata": {
        "colab": {
          "base_uri": "https://localhost:8080/"
        },
        "id": "OadfvsX31AEj",
        "outputId": "10703621-2919-4083-f60a-8bba3ab71835"
      },
      "execution_count": null,
      "outputs": [
        {
          "output_type": "stream",
          "name": "stdout",
          "text": [
            "x1 =  1.0\n",
            "x2 =  4.742996065636972\n",
            "x3 =  3.8211546642483363\n",
            "x4 =  1.3794076394141688\n"
          ]
        }
      ]
    },
    {
      "cell_type": "code",
      "source": [],
      "metadata": {
        "id": "nv4xajWq43lr"
      },
      "execution_count": null,
      "outputs": []
    },
    {
      "cell_type": "markdown",
      "source": [],
      "metadata": {
        "id": "Z1FI8oIU2ggx"
      }
    },
    {
      "cell_type": "markdown",
      "source": [],
      "metadata": {
        "id": "T1MUYZ-72gdZ"
      }
    },
    {
      "cell_type": "markdown",
      "source": [
        "Q4:"
      ],
      "metadata": {
        "id": "h1tRIuNy2gas"
      }
    },
    {
      "cell_type": "code",
      "source": [
        "\n",
        "def obj(x):\n",
        "    return 12*x[0]+9*x[1]"
      ],
      "metadata": {
        "id": "qIyGnxo94uC5"
      },
      "execution_count": null,
      "outputs": []
    },
    {
      "cell_type": "code",
      "source": [
        "def con1(x):\n",
        "    return x[0]-1000"
      ],
      "metadata": {
        "id": "TtiJdO5Q1nTj"
      },
      "execution_count": null,
      "outputs": []
    },
    {
      "cell_type": "code",
      "source": [
        "def con2(x):\n",
        "    return x[1]-1500"
      ],
      "metadata": {
        "id": "hJt6BlfB1nRf"
      },
      "execution_count": null,
      "outputs": []
    },
    {
      "cell_type": "code",
      "source": [
        "def con3(x):\n",
        "    return x[0]+x[1]-1750"
      ],
      "metadata": {
        "id": "Yi9kNOrw1nO7"
      },
      "execution_count": null,
      "outputs": []
    },
    {
      "cell_type": "code",
      "source": [
        "def con4(x):\n",
        "    return 4*x[0]+2*x[1]-4800"
      ],
      "metadata": {
        "id": "TsebjNCs1nMj"
      },
      "execution_count": null,
      "outputs": []
    },
    {
      "cell_type": "code",
      "source": [
        "# initial guess\n",
        "x=[0,0]"
      ],
      "metadata": {
        "id": "RHeIan321ACS"
      },
      "execution_count": null,
      "outputs": []
    },
    {
      "cell_type": "code",
      "source": [
        "b=(0,None)\n",
        "bounds=(b,b)"
      ],
      "metadata": {
        "id": "v7WSIDKl1zWS"
      },
      "execution_count": null,
      "outputs": []
    },
    {
      "cell_type": "code",
      "source": [
        "cons = [{'type': 'ineq', 'fun': con1},\n",
        "        {'type': 'ineq', 'fun': con2},\n",
        "        {'type': 'ineq', 'fun': con3},\n",
        "        {'type': 'ineq', 'fun': con4}]"
      ],
      "metadata": {
        "id": "A1rdwolR1zS8"
      },
      "execution_count": null,
      "outputs": []
    },
    {
      "cell_type": "code",
      "source": [
        "res=minimize(obj,x,bounds=bounds, constraints=cons, method='SLSQP')\n",
        "res"
      ],
      "metadata": {
        "colab": {
          "base_uri": "https://localhost:8080/"
        },
        "id": "IPCmdRqg1zQu",
        "outputId": "9071875c-1d46-4197-dd04-54a569fd99e3"
      },
      "execution_count": null,
      "outputs": [
        {
          "output_type": "execute_result",
          "data": {
            "text/plain": [
              " message: Optimization terminated successfully\n",
              " success: True\n",
              "  status: 0\n",
              "     fun: 25499.999999999724\n",
              "       x: [ 1.000e+03  1.500e+03]\n",
              "     nit: 2\n",
              "     jac: [ 1.200e+01  9.000e+00]\n",
              "    nfev: 7\n",
              "    njev: 2"
            ]
          },
          "metadata": {},
          "execution_count": 53
        }
      ]
    },
    {
      "cell_type": "code",
      "source": [],
      "metadata": {
        "id": "hQY3Whdz2NU-"
      },
      "execution_count": null,
      "outputs": []
    },
    {
      "cell_type": "markdown",
      "source": [
        "# Maximize The Objective Function"
      ],
      "metadata": {
        "id": "REZFzX_X0wol"
      }
    },
    {
      "cell_type": "markdown",
      "source": [
        "## Q1:"
      ],
      "metadata": {
        "id": "EWZRDPAT05PT"
      }
    },
    {
      "cell_type": "code",
      "source": [
        "import numpy as np\n",
        "from scipy.optimize import linprog"
      ],
      "metadata": {
        "id": "57wkVToV00nE"
      },
      "execution_count": 1,
      "outputs": []
    },
    {
      "cell_type": "code",
      "source": [
        "#coefficients of the obj function (max 12x+9y -> mini -12x-9y)\n",
        "c=[-12,-9]"
      ],
      "metadata": {
        "id": "rZcgIWAh1Bc4"
      },
      "execution_count": 2,
      "outputs": []
    },
    {
      "cell_type": "code",
      "source": [
        "# coefficients of the inequality constraints\n",
        "A=[[1,0],  #x<=1000\n",
        "  [0,1],   #y<=1500\n",
        "  [1,1],   #x+y<=1750\n",
        "  [4,2]]   #4x+2y<=4800"
      ],
      "metadata": {
        "id": "w4h6role1OsM"
      },
      "execution_count": 3,
      "outputs": []
    },
    {
      "cell_type": "code",
      "source": [
        "# RHS of the inequality constraints\n",
        "b=[1000,1500,1750,4800]"
      ],
      "metadata": {
        "id": "ZqG8GMQK10ro"
      },
      "execution_count": 4,
      "outputs": []
    },
    {
      "cell_type": "code",
      "source": [
        "#bound\n",
        "x_bounds=(0, None)\n",
        "y_bounds=(0, None)"
      ],
      "metadata": {
        "id": "2HVLROpY12_g"
      },
      "execution_count": 5,
      "outputs": []
    },
    {
      "cell_type": "code",
      "source": [
        "#result\n",
        "result=linprog(c, A_ub=A, b_ub=b, bounds=[x_bounds, y_bounds], method='highs')\n",
        "\n",
        "print(f\"optimal value: {-result.fun}\") # convert back to maximization\n",
        "print(f\"optimal solution: {result.x[0]}, y={result.x[1]}\")"
      ],
      "metadata": {
        "colab": {
          "base_uri": "https://localhost:8080/"
        },
        "id": "AU1cYnNv15rI",
        "outputId": "f4c4875c-39e8-433a-916e-2453566dd80d"
      },
      "execution_count": 8,
      "outputs": [
        {
          "output_type": "stream",
          "name": "stdout",
          "text": [
            "optimal value: 17700.0\n",
            "optimal solution: 650.0, y=1100.0\n"
          ]
        }
      ]
    },
    {
      "cell_type": "markdown",
      "source": [
        "## Q2:"
      ],
      "metadata": {
        "id": "VAPciqY922Mn"
      }
    },
    {
      "cell_type": "markdown",
      "source": [
        " Experienced workers are paid 15/hand inexp workers are paid\n",
        "10/h. company can spend $1200/h on labour. Experienced workers require an average of 1 min an hour of contact with a supervisor, inexperienced workers require 2. There are two supervisors who can provide 120 min in an hour.\n"
      ],
      "metadata": {
        "id": "NjVFwx4Y2Dtj"
      }
    },
    {
      "cell_type": "markdown",
      "source": [
        "### x-> experienced\n",
        "### y->inexperienced\n",
        "\n",
        "### constraints:\n",
        "### 15x+10y<=1200\n",
        "### x+2y<=120\n",
        "### x>=0, y>=0"
      ],
      "metadata": {
        "id": "GQX5yD2B2Shf"
      }
    },
    {
      "cell_type": "code",
      "source": [
        "\n",
        "import numpy as np\n",
        "from scipy.optimize import linprog"
      ],
      "metadata": {
        "id": "pifUB94V18aE"
      },
      "execution_count": 9,
      "outputs": []
    },
    {
      "cell_type": "code",
      "source": [
        "# coefficients of the objective function (maximize x+y -> minimize -x-y)\n",
        "c=[-1, -1]"
      ],
      "metadata": {
        "id": "I7-Av_ns2b8_"
      },
      "execution_count": 10,
      "outputs": []
    },
    {
      "cell_type": "code",
      "source": [
        "# coefficients of the inequality constraints\n",
        "A=[ [15,10],\n",
        "    [1,2]]\n",
        "\n",
        "# LHS\n",
        "b=[1200, 120]"
      ],
      "metadata": {
        "id": "9-nTeFCN2dck"
      },
      "execution_count": 11,
      "outputs": []
    },
    {
      "cell_type": "code",
      "source": [
        "#bound\n",
        "x_bounds=(0, None)\n",
        "y_bounds=(0, None)"
      ],
      "metadata": {
        "id": "DdJYpocA2qco"
      },
      "execution_count": 12,
      "outputs": []
    },
    {
      "cell_type": "code",
      "source": [
        "\n",
        "result=linprog(c, A_ub=A, b_ub=b, bounds=[x_bounds, y_bounds], method='highs')"
      ],
      "metadata": {
        "id": "oPBcg2Ym2tEN"
      },
      "execution_count": 13,
      "outputs": []
    },
    {
      "cell_type": "code",
      "source": [
        "print(f\"optimal value: {-result.fun}\") # convert back to maximization\n",
        "print(f\"optimal solution: {result.x[0]}, y={result.x[1]}\")"
      ],
      "metadata": {
        "colab": {
          "base_uri": "https://localhost:8080/"
        },
        "id": "i3IwjRzl2vGh",
        "outputId": "5a44aec2-ee46-4230-bbab-b60904224359"
      },
      "execution_count": 14,
      "outputs": [
        {
          "output_type": "stream",
          "name": "stdout",
          "text": [
            "optimal value: 90.0\n",
            "optimal solution: 60.0, y=30.0\n"
          ]
        }
      ]
    },
    {
      "cell_type": "code",
      "source": [],
      "metadata": {
        "id": "3Vv-ilAP2wcx"
      },
      "execution_count": null,
      "outputs": []
    }
  ]
}